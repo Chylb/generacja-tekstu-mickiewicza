{
 "cells": [
  {
   "cell_type": "markdown",
   "metadata": {},
   "source": [
    "# Przygotowanie tekstu\n",
    "\n",
    "**Celem tego notebooka jest przygotowanie tekstu, przed podaniem go modelowi sieci neuronowej.**"
   ]
  },
  {
   "cell_type": "markdown",
   "metadata": {},
   "source": [
    "Importuję potrzebne moduły"
   ]
  },
  {
   "cell_type": "code",
   "execution_count": 3,
   "metadata": {},
   "outputs": [],
   "source": [
    "import re"
   ]
  },
  {
   "cell_type": "markdown",
   "metadata": {},
   "source": [
    "Usuwam egzotyczne, rzadko występujące znaki, oraz zamieniam niektóre znaki na znaki bliskoznaczne. Następnie zliczam występowanie każdego znaku, aby wykryć następne potencjalne znaki do usunięcia."
   ]
  },
  {
   "cell_type": "code",
   "execution_count": 6,
   "metadata": {},
   "outputs": [
    {
     "name": "stdout",
     "output_type": "stream",
     "text": [
      "[(' ', 59719), ('a', 30835), ('i', 29266), ('e', 25292), ('o', 22960), ('z', 22676), ('n', 15426), ('r', 15257), ('s', 15196), ('w', 14579), ('c', 14097), ('y', 13668), ('k', 12311), ('d', 11427), ('\\n', 10780), ('t', 10688), ('m', 10247), ('ł', 10054), (',', 9113), ('p', 7985), ('u', 7662), ('l', 6628), ('j', 6563), ('b', 5742), ('ę', 5526), ('ą', 4788), ('g', 4765), ('h', 3894), ('ż', 3330), ('ó', 3092), ('.', 2833), ('ś', 2523), ('ć', 1952), (';', 1445), ('P', 1256), ('W', 1246), (':', 1143), ('!', 1083), ('S', 1041), ('T', 965), ('I', 793), ('N', 785), ('Z', 782), ('-', 738), ('J', 729), ('A', 691), ('K', 683), ('ń', 651), ('M', 579), ('O', 566), ('B', 562), ('C', 556), ('D', 551), ('R', 488), ('?', 441), ('ź', 414), ('f', 383), ('G', 358), ('H', 309), ('L', 308), ('Ż', 219), ('U', 182), ('(', 72), (')', 72), ('Ś', 71), ('F', 45), ('Ł', 24), ('E', 23), ('Ó', 13), ('Ź', 4), ('Y', 4), ('Ć', 1)]\n",
      "Unique characters: 72\n",
      "Text length: 441150\n"
     ]
    }
   ],
   "source": [
    "text = open('pan-tadeusz.txt', 'r',encoding='utf-8').read()\n",
    "\n",
    "text = re.sub('\\xa0',  ' ', text)\n",
    "\n",
    "text = re.sub(' +', ' ', text)\n",
    "text = re.sub('\\n\\n\\n+' , '\\n\\n\\n', text) \n",
    "\n",
    "text = re.sub('\\t', ' ', text)\n",
    "text = re.sub('\\d', 'Y', text) #usuwanie cyfr\n",
    "\n",
    "text = re.sub('æ' , 'ae', text)\n",
    "text = re.sub('[àáä]', 'a', text)\n",
    "text = re.sub('[ėěéè]', 'e', text)\n",
    "text = re.sub('ü', 'u', text)\n",
    "text = re.sub('ž', 'z', text)\n",
    "\n",
    "text = re.sub('Ô', \"O\", text)\n",
    "text = re.sub('ö', \"o\", text)\n",
    "\n",
    "text = re.sub('Q', \"K\", text)\n",
    "text = re.sub('q', \"k\", text)\n",
    "text = re.sub('V', \"W\", text)\n",
    "text = re.sub('v', \"w\", text)\n",
    "text = re.sub('x', \"ks\", text)\n",
    "\n",
    "text = re.sub('[—–]', '-', text)\n",
    "text = re.sub('…', '...', text)\n",
    "text = re.sub('`', \"'\", text)\n",
    "text = re.sub('[”„]', '\"', text)\n",
    "\n",
    "text = re.sub('[\\*/»«’\"]', '', text)\n",
    "\n",
    "d = {} \n",
    "for char in text:\n",
    "    if char in d:\n",
    "        d[char] += 1\n",
    "    else:\n",
    "        d[char] = 1\n",
    "\n",
    "res = [(k, v) for k, v in d.items()]\n",
    "res = sorted(res, key=lambda x: -x[1])\n",
    "print(res)\n",
    "print(\"Unique characters:\",len(res))\n",
    "print(\"Text length:\",len(text))\n"
   ]
  },
  {
   "cell_type": "markdown",
   "metadata": {},
   "source": [
    "Tutaj można sprawdzić gdzie w tekście występują interesujące nas znaki."
   ]
  },
  {
   "cell_type": "code",
   "execution_count": 8,
   "metadata": {},
   "outputs": [
    {
     "name": "stdout",
     "output_type": "stream",
     "text": [
      " najedli,\n",
      "Źwierza na\n",
      "em pjani,\n",
      "Źle mierzą\n",
      "ną ubogą!\n",
      "Źlem zrobi\n",
      "pod Jena,\n",
      "Źle zgojon\n"
     ]
    }
   ],
   "source": [
    "fragments = [(m.start(0), m.end(0)) for m in re.finditer(\"Ź\", text)]\n",
    "for s in fragments:\n",
    "    #print(text[s[0]:s[1]])\n",
    "    print(text[s[0]-10:s[0]+10])"
   ]
  },
  {
   "cell_type": "markdown",
   "metadata": {},
   "source": [
    "Zapisuję przetworzony tekst."
   ]
  },
  {
   "cell_type": "code",
   "execution_count": null,
   "metadata": {},
   "outputs": [],
   "source": [
    "with open(\"out.txt\", \"w\", encoding=\"utf-8\") as fout:\n",
    "    fout.write(text)"
   ]
  }
 ],
 "metadata": {
  "kernelspec": {
   "display_name": "Python 3",
   "language": "python",
   "name": "python3"
  },
  "language_info": {
   "codemirror_mode": {
    "name": "ipython",
    "version": 3
   },
   "file_extension": ".py",
   "mimetype": "text/x-python",
   "name": "python",
   "nbconvert_exporter": "python",
   "pygments_lexer": "ipython3",
   "version": "3.8.5"
  }
 },
 "nbformat": 4,
 "nbformat_minor": 4
}
