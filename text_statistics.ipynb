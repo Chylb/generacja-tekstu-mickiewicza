{
 "cells": [
  {
   "cell_type": "markdown",
   "metadata": {},
   "source": [
    "# Statystki tekstu\n",
    "\n",
    "## Celem tego notebooka jest zbadanie statystyk danego tekstu i porównanie ich z innymi tekstami.\n",
    "\n"
   ]
  },
  {
   "cell_type": "markdown",
   "metadata": {},
   "source": [
    "Tworzę funkcję badającą tekst."
   ]
  },
  {
   "cell_type": "code",
   "execution_count": 4,
   "metadata": {},
   "outputs": [],
   "source": [
    "def text_statistics(text):\n",
    "    d = {} \n",
    "    for char in text:\n",
    "        if char in d:\n",
    "            d[char] += 1\n",
    "        else:\n",
    "            d[char] = 1\n",
    "\n",
    "    occurances = [(k, v) for k, v in d.items()]\n",
    "    occurances = sorted(occurances, key=lambda x: -x[1])\n",
    "    #print(d.keys())\n",
    "    print(occurances)\n",
    "    print(\"Unique characters:\",len(d))\n",
    "    print(\"Text length:\",len(text))\n",
    "    print(\"\\n\")"
   ]
  },
  {
   "cell_type": "markdown",
   "metadata": {},
   "source": [
    "Badam wczytane teksty."
   ]
  },
  {
   "cell_type": "code",
   "execution_count": 5,
   "metadata": {},
   "outputs": [
    {
     "name": "stdout",
     "output_type": "stream",
     "text": [
      "[(' ', 724764), ('i', 334324), ('a', 326226), ('e', 274604), ('o', 270067), ('z', 229998), ('n', 174903), ('s', 156273), ('w', 152086), ('c', 151327), ('r', 146781), ('y', 139183), ('k', 117896), ('t', 115398), ('d', 114843), ('ł', 113018), ('m', 110334), ('p', 99528), ('j', 80581), (',', 77339), ('u', 74338), ('l', 72341), ('b', 61231), ('ę', 60224), ('g', 55274), ('\\n', 55222), ('.', 51741), ('h', 45802), ('ą', 42503), ('ż', 39230), ('ó', 32416), ('ś', 29305), ('-', 29117), ('ć', 26051), ('!', 13536), ('W', 7942), ('K', 7268), ('P', 7030), ('B', 6937), ('ń', 6724), ('S', 6036), ('T', 5984), ('N', 5924), ('?', 5844), ('Z', 5546), ('A', 5320), ('C', 4943), ('J', 4418), (':', 4380), ('M', 4282), ('f', 3610), ('ź', 3546), ('O', 3048), ('D', 2978), ('R', 2885), (';', 2814), ('L', 2110), ('I', 1745), ('G', 1441), ('H', 1062), ('U', 894), ('Ż', 767), ('E', 381), ('Ł', 276), ('Ś', 238), ('F', 167), (')', 159), ('(', 155), ('Y', 98), ('Ó', 40), ('Ź', 33), ('Ć', 3)]\n",
      "Unique characters: 72\n",
      "Text length: 4714832\n",
      "\n",
      "\n",
      "[(' ', 59719), ('a', 30835), ('i', 29266), ('e', 25292), ('o', 22960), ('z', 22676), ('n', 15426), ('r', 15257), ('s', 15196), ('w', 14579), ('c', 14097), ('y', 13668), ('k', 12311), ('d', 11427), ('\\n', 10780), ('t', 10688), ('m', 10247), ('ł', 10054), (',', 9113), ('p', 7985), ('u', 7662), ('l', 6628), ('j', 6563), ('b', 5742), ('ę', 5526), ('ą', 4788), ('g', 4765), ('h', 3894), ('ż', 3330), ('ó', 3092), ('.', 2833), ('ś', 2523), ('ć', 1952), (';', 1445), ('P', 1256), ('W', 1246), (':', 1143), ('!', 1083), ('S', 1041), ('T', 965), ('I', 793), ('N', 785), ('Z', 782), ('-', 738), ('J', 729), ('A', 691), ('K', 683), ('ń', 651), ('M', 579), ('O', 566), ('B', 562), ('C', 556), ('D', 551), ('R', 488), ('?', 441), ('ź', 414), ('f', 383), ('G', 358), ('H', 309), ('L', 308), ('Ż', 219), ('U', 182), ('(', 72), (')', 72), ('Ś', 71), ('F', 45), ('Ł', 24), ('E', 23), ('Ó', 13), ('Ź', 4), ('Y', 4), ('Ć', 1)]\n",
      "Unique characters: 72\n",
      "Text length: 441150\n",
      "\n",
      "\n"
     ]
    }
   ],
   "source": [
    "text1 = open('sienkiewicz.txt', 'r',encoding='utf-8').read()\n",
    "text2 = open('pan-tadeusz.txt', 'r',encoding='utf-8').read()\n",
    " \n",
    "text_statistics(text1)\n",
    "text_statistics(text2)"
   ]
  },
  {
   "cell_type": "markdown",
   "metadata": {},
   "source": [
    "Porównuję zasób znaków tekstów. Jest to przydatne, jeśli chcemy wykonać transfer learning."
   ]
  },
  {
   "cell_type": "code",
   "execution_count": 6,
   "metadata": {},
   "outputs": [
    {
     "name": "stdout",
     "output_type": "stream",
     "text": [
      "The vocabulary is identical!\n"
     ]
    }
   ],
   "source": [
    "def compare_vocabulary(t1,t2):\n",
    "    vocab1 = set(text1)\n",
    "    vocab2 = set(text2)\n",
    "    \n",
    "    diff1 = vocab1.difference(vocab2)\n",
    "    diff2 = vocab2.difference(vocab1)\n",
    "    \n",
    "    if len(diff1) == len(diff2) == 0:\n",
    "        print(\"The vocabulary is identical!\")\n",
    "    else:\n",
    "        print(\"Text1 has these additional characters:\", diff1)\n",
    "        print(\"Text2 has these additional characters:\", diff2)\n",
    "    \n",
    "compare_vocabulary(text1,text2)"
   ]
  },
  {
   "cell_type": "code",
   "execution_count": null,
   "metadata": {},
   "outputs": [],
   "source": []
  }
 ],
 "metadata": {
  "kernelspec": {
   "display_name": "Python 3",
   "language": "python",
   "name": "python3"
  },
  "language_info": {
   "codemirror_mode": {
    "name": "ipython",
    "version": 3
   },
   "file_extension": ".py",
   "mimetype": "text/x-python",
   "name": "python",
   "nbconvert_exporter": "python",
   "pygments_lexer": "ipython3",
   "version": "3.8.5"
  }
 },
 "nbformat": 4,
 "nbformat_minor": 4
}
