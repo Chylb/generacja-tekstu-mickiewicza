{
 "cells": [
  {
   "cell_type": "markdown",
   "metadata": {
    "id": "6j8ugfTZF-xR"
   },
   "source": [
    "# Generacja tekstu imitującego twórczość Adama Mickiewicza\n",
    "\n",
    "## Celem tego notebooka jest wytrenowanie sieci neuronowej, która imitowałaby twórczość Adama Mickiewicza.\n",
    "\n",
    "Model jest rekurencyjną siecią neuronową (RNN). Rekurencyjne sieci neuronowe to klasa sieci neuronowych, która jest potężna w modelowaniu danych sekwencyjnych, takich jak szeregi czasowe lub język naturalny. Cechują się tym, że przechowują swój stan, który jest zmieniany przez dane wejściowe, i który ma wpływ na wyjście. \n",
    "\n",
    "\n",
    "Model generuje tekst litera po literze. Takie podejście ma znaczące zalety:\n",
    "* nie korzystamy z word embeddingu, który ze względu na deklinację w języku polskim jest ogromny (wiele gigabajtów)\n",
    "* nie ma problemów z nauczaniem nazw własnych, ani innych unikatowych słów wynikających m. in. z *licentia poetica*\n",
    "\n",
    "\n"
   ]
  },
  {
   "cell_type": "markdown",
   "metadata": {
    "id": "2txAogxfF-xa"
   },
   "source": [
    "Importuję potrzebne moduły"
   ]
  },
  {
   "cell_type": "code",
   "execution_count": 2,
   "metadata": {
    "id": "zhShYnMzF-xb"
   },
   "outputs": [],
   "source": [
    "import tensorflow as tf\n",
    "import numpy as np\n",
    "import os\n",
    "import matplotlib.pyplot as plt"
   ]
  },
  {
   "cell_type": "markdown",
   "metadata": {
    "id": "WANLK2HCF-xc"
   },
   "source": [
    "Wczytuję tekst, który posłuży do nauczenia języka polskiego. Wybrałem tutaj trylogię sienkiewiczowską. Powodem tego jest to, iż twórczość Adama Mickiewicza ma zbyt małą objętość, aby sieć neuronowa nauczyła się imitować w miarę poprawnie język naturalny. Dość powiedzieć, iż sam *Pan Tadeusz* stanowi ponad ponad połowę tekstu przezeń napisanego, dlatego nie zadałem sobie nawet trudu uwzględnienia pozostałych dzieł. *Pan Tadeusz* ma około 500000 znaków, zaś trylogia sienkiewiczowska około 10 razy więcej, co powinno wystarczyć. \n",
    "\n",
    "**Uwaga!** Przed wczytaniem tekstu, należy usuniąć z niego egzotyczne, rzadko występujące znaki, których model nie jest w stanie się nauczyć. Wykonałem to w notebooku **text_preparation**. Należy się też upewnić, iż oba teksty mają taką samą liczbę unikatowych znaków, aby możliwe było przeuczunie sieci (transfer learning), a najlepiej byłoby, aby korzystały z dokładnie tych samych znaków. Zrobiłem to w notebooku **text_statistics**."
   ]
  },
  {
   "cell_type": "code",
   "execution_count": 3,
   "metadata": {
    "id": "BgqmTJTcF-xd"
   },
   "outputs": [],
   "source": [
    "#text = open('sienkiewicz.txt', 'r', encoding='UTF-8').read()\n",
    "text = open('drive/My Drive/Colab Notebooks/MickiewiczTextGeneration/sienkiewicz.txt', 'r', encoding='UTF-8').read()"
   ]
  },
  {
   "cell_type": "markdown",
   "metadata": {
    "id": "3uJaUmaXF-xd"
   },
   "source": [
    "Tworzę mapę znak->liczba, oraz liczba->znak, i koduję tekst jako ciąg liczb.\n",
    "\n",
    "Tworzę obiekty dataset. Jeden będzie służyć do trenowania, a drugi to testowania.\n",
    "\n"
   ]
  },
  {
   "cell_type": "code",
   "execution_count": 4,
   "metadata": {
    "colab": {
     "base_uri": "https://localhost:8080/"
    },
    "id": "EOFtqcMuF-xe",
    "outputId": "1c0e7068-783e-499f-e646-5f20fef62bbc"
   },
   "outputs": [
    {
     "name": "stdout",
     "output_type": "stream",
     "text": [
      "[25 40 47 42 38 46  1 42  1 46 42 38 36 56 38 46  0 18 38 47]\n"
     ]
    }
   ],
   "source": [
    "vocab = sorted(set(text))\n",
    "vocab_size = len(vocab)\n",
    "\n",
    "char2idx = {u:i for i, u in enumerate(vocab)}\n",
    "idx2char = np.array(vocab)\n",
    "\n",
    "text_as_int = np.array([char2idx[c] for c in text])\n",
    "\n",
    "print(text_as_int[:20])"
   ]
  },
  {
   "cell_type": "markdown",
   "metadata": {
    "id": "7dfflWr8F-xf"
   },
   "source": [
    "Dzielę zakodowany tekst na sekwencje."
   ]
  },
  {
   "cell_type": "code",
   "execution_count": 5,
   "metadata": {
    "id": "rGaGYcWmF-xf"
   },
   "outputs": [],
   "source": [
    "seq_length = 192\n",
    "examples_per_epoch = len(text)//(seq_length+1)\n",
    "\n",
    "char_dataset = tf.data.Dataset.from_tensor_slices(text_as_int)\n",
    "sequences = char_dataset.batch(seq_length+1, drop_remainder=True)"
   ]
  },
  {
   "cell_type": "markdown",
   "metadata": {
    "id": "XZJGxVWtF-xg"
   },
   "source": [
    "Rozdzielam sekwencje na x i y, i dzielę dataset na batche."
   ]
  },
  {
   "cell_type": "code",
   "execution_count": 6,
   "metadata": {
    "id": "8g-g_HMxF-xg"
   },
   "outputs": [],
   "source": [
    "def split_input_target(chunk):\n",
    "    input_text = chunk[:-1]\n",
    "    target_text = chunk[1:]\n",
    "    return input_text, target_text\n",
    " \n",
    "dataset = sequences.map(split_input_target)\n",
    "\n",
    "BATCH_SIZE = 32\n",
    "dataset = dataset.batch(BATCH_SIZE, drop_remainder=True)"
   ]
  },
  {
   "cell_type": "markdown",
   "metadata": {
    "id": "IXlOIWzFF-xh"
   },
   "source": [
    "Rozdzielam dataset na dataset treningowy i testowy."
   ]
  },
  {
   "cell_type": "code",
   "execution_count": 7,
   "metadata": {
    "id": "E2m_pnyuF-xh"
   },
   "outputs": [],
   "source": [
    "BUFFER_SIZE = 1000\n",
    "train_part = 0.99\n",
    "DATASET_SIZE = len(sequences) // BATCH_SIZE\n",
    "train_size = int(train_part * DATASET_SIZE)\n",
    "test_size = int((1-train_part) * DATASET_SIZE)\n",
    "\n",
    "train_dataset = dataset.take(train_size)\n",
    "train_dataset = train_dataset.shuffle(BUFFER_SIZE)\n",
    "test_dataset = dataset.skip(train_size)\n",
    "test_dataset = test_dataset.shuffle(BUFFER_SIZE)\n",
    "\n"
   ]
  },
  {
   "cell_type": "markdown",
   "metadata": {
    "id": "aVmmLPYYF-xh"
   },
   "source": [
    "Tworzę funkcję generującą tekst. \n",
    "\n",
    "Działanie jest następujące:\n",
    "* resetowanie stanu modelu\n",
    "* pobranie z zbioru testowego danych, które posłużą za ziarno do dalszej generacji tekstu\n",
    "* pętla generująca tekst, wykonuje się tyle razy, ile chemy znaków wygenerować\n",
    "\n",
    "Działanie pętli generującej:\n",
    "\n",
    "* dzielenie wyjścia z modelu przez temperaturę\n",
    "* na podstawie otrzymanego wyniku wybierany jest częściowo losowo wygenerowany znak, im większa temperatura, tym większa losowość\n",
    "* dodajemy nowy znak do wygenerowanego tekstu i karmimy tymże znakiem model\n",
    "\n",
    "Tekst wygenerowany od ziarna odzielony jest przy pomocy znaku \" | \".\n",
    "Funkcja zwraca tyle tekstów, jaki jest rozmiar batch_size.\n",
    "\n",
    "\n"
   ]
  },
  {
   "cell_type": "code",
   "execution_count": 8,
   "metadata": {
    "id": "DHaCSj5nF-xi"
   },
   "outputs": [],
   "source": [
    "def generate_text(model, gen_length = 1000, temperature = 1.0):\n",
    "    [(x,_)] = test_dataset.take(1)\n",
    "    model.reset_states() \n",
    "    start_x = x\n",
    "    \n",
    "    x1 = x[:,:-1] \n",
    "    x2 = x[:,-1:] #last character\n",
    "    \n",
    "    model(x1)\n",
    "    x = x2\n",
    "    predictions = []  \n",
    "    for i in range(gen_length):\n",
    "        y = model(x)\n",
    "        y = y / temperature\n",
    "        y = tf.squeeze(y, axis=1)\n",
    "        predicted_id = tf.random.categorical(y, num_samples=1)\n",
    "        predictions.append(predicted_id.numpy())\n",
    "        x = predicted_id\n",
    "\n",
    "    texts = []\n",
    "    for i in range( x.shape[0]):\n",
    "        gen_text = \"\"\n",
    "        for ix in start_x[i].numpy():\n",
    "            gen_text += idx2char[ix]\n",
    "            \n",
    "        gen_text += \"|\"\n",
    "        \n",
    "        for j in range( len(predictions)):\n",
    "            gen_text += idx2char[ predictions[j][i][0]]\n",
    "        texts.append(gen_text)\n",
    "    return texts"
   ]
  },
  {
   "cell_type": "markdown",
   "metadata": {
    "id": "nflDhTl2F-xj"
   },
   "source": [
    "Buduję model sieci neuronowej.\n",
    "\n",
    "Na wejściu znajduję się warstwa embedding. Jest to dość zaskakujące, gdyż model operuje na znakach, a nie słowach. Poradnik TensorFlow <a href=\"https://www.tensorflow.org/tutorials/text/text_generation\">[1]</a> na którym się głównie wzorowałem nie opisuje dlaczego ta warstwa jest stosowana. Sprawdziłem wpływ tej warstwy w notebooku **embedding_test** i jak się okazało, rzeczywiście word embedding poprawia działanie. Im większy rozmiar embeddingu, tym nauczanie przebiega szybciej, jednak dla dużych rozmiarów różnica zanika. Tutaj wybrałem rozmiar 256.\n",
    "\n",
    "Dalej mamy 3 warstwy LSTM, po których następują warstwy dropout.\n",
    "Komórka LSTM ma 3 bramki: wejściową, wyjściową i zapominania; dzięki nim jest w stanie zarówno zapamiętymać zależności krótkotrwałe, jak i długotrwałe. Stąd też pochodzi nazwa - long short-term memory. Próbowałem też użyć komórek GRU, które są podobne, lecz nie mają wyjściowej bramki. Spisywały się jednak wyraźnie gorzej. \n",
    "Warstwy dropout pomagają przeciwdziałać przeuczeniu się modelu.\n",
    "\n",
    "Na końcu znajduje się pojedyncza gęsta warstwa.\n"
   ]
  },
  {
   "cell_type": "code",
   "execution_count": 9,
   "metadata": {
    "id": "Nyx5uumFF-xj"
   },
   "outputs": [],
   "source": [
    "def build_model(vocab_size, batch_size):\n",
    "    model = tf.keras.Sequential()\n",
    "    model.add(tf.keras.layers.Embedding(vocab_size, 256, batch_input_shape=[batch_size, None]))\n",
    "    model.add(tf.keras.layers.LSTM(1024, return_sequences=True, stateful=True))\n",
    "    model.add(tf.keras.layers.Dropout(0.2))\n",
    "    model.add(tf.keras.layers.LSTM(1024, return_sequences=True, stateful=True))\n",
    "    model.add(tf.keras.layers.Dropout(0.2))\n",
    "    model.add(tf.keras.layers.LSTM(1024, return_sequences=True, stateful=True))\n",
    "    model.add(tf.keras.layers.Dropout(0.2))\n",
    "    model.add(tf.keras.layers.Dense(vocab_size))\n",
    "    \n",
    "    return model\n",
    "\n",
    "model = build_model(\n",
    "    vocab_size=vocab_size,\n",
    "    batch_size=BATCH_SIZE)\n",
    "\n",
    "def loss(labels, logits):\n",
    "    return tf.keras.losses.sparse_categorical_crossentropy(labels, logits, from_logits=True)\n",
    "\n",
    "model.compile(optimizer='adam', loss=loss)"
   ]
  },
  {
   "cell_type": "markdown",
   "metadata": {
    "id": "hwHdff8vF-xk"
   },
   "source": [
    "Sprawdzam, czy model działa poprawnie."
   ]
  },
  {
   "cell_type": "code",
   "execution_count": 10,
   "metadata": {
    "colab": {
     "base_uri": "https://localhost:8080/"
    },
    "id": "w3ecYopcF-xm",
    "outputId": "dfad2096-9702-4a06-a492-0ea6bdb41591"
   },
   "outputs": [
    {
     "name": "stdout",
     "output_type": "stream",
     "text": [
      "(32, 192)  input shape\n",
      "(32, 192, 72) # (batch_size, sequence_length, vocab_size)\n"
     ]
    }
   ],
   "source": [
    "for input_example_batch, target_example_batch in dataset.take(1):\n",
    "    example_batch_predictions = model(input_example_batch)\n",
    "    print(input_example_batch.shape, \" input shape\")\n",
    "    print(example_batch_predictions.shape, \"# (batch_size, sequence_length, vocab_size)\")"
   ]
  },
  {
   "cell_type": "markdown",
   "metadata": {
    "id": "i0k8iP61F-xm"
   },
   "source": [
    "Tworzę callback, który będzie wywoływany co *n* epok. Dzięki niemu zobaczymy jak model sobie radzi na różnych etapach uczenia."
   ]
  },
  {
   "cell_type": "code",
   "execution_count": 11,
   "metadata": {
    "id": "luSTd52XF-xm"
   },
   "outputs": [],
   "source": [
    "class EpochEndCallback(tf.keras.callbacks.Callback):\n",
    "    def __init__(self, n):\n",
    "        self.n = n\n",
    "    \n",
    "    def on_epoch_end(self, epoch, logs=None):\n",
    "        if epoch % self.n == self.n-1:\n",
    "            print(\"\\n\\n\", generate_text(self.model,gen_length=100)[0],\"\\n\")\n",
    "        "
   ]
  },
  {
   "cell_type": "markdown",
   "metadata": {
    "id": "1xUf0KaiF-xn"
   },
   "source": [
    "Rozpoczynam uczenie."
   ]
  },
  {
   "cell_type": "code",
   "execution_count": 12,
   "metadata": {
    "colab": {
     "base_uri": "https://localhost:8080/"
    },
    "id": "dMrIiz3jF-xn",
    "outputId": "b69d23af-6af5-4f1b-fc3b-fdfcfcd50c67"
   },
   "outputs": [
    {
     "name": "stdout",
     "output_type": "stream",
     "text": [
      "Epoch 1/10\n",
      "755/755 [==============================] - ETA: 0s - loss: 2.1812WARNING:tensorflow:Callbacks method `on_test_batch_end` is slow compared to the batch time (batch time: 0.0132s vs `on_test_batch_end` time: 0.0569s). Check your callbacks.\n",
      "\n",
      "\n",
      " rzyjść właśnie z chlebem do klasztoru, zostać nie tylko siostrzyczką, ale i karmicielką mniszek.\n",
      "\n",
      "Miecznik wiedząc, że na chwałę bożą ma iść jego praca, pracował gorliwie. Objeżdżali więc raze|.\n",
      "\n",
      "Atman nie po okszedźwało tysiężn wa wszela w przyjadych: i ja przejeszcza. I ladzie mura został?  \n",
      "\n",
      "755/755 [==============================] - 172s 227ms/step - loss: 2.1812 - val_loss: 1.5658\n",
      "Epoch 2/10\n",
      "755/755 [==============================] - ETA: 0s - loss: 1.5087\n",
      "\n",
      " li Szwedów i Sakowiczowskich grasantów.\n",
      "\n",
      "Oleńka wnet wzięła komendę nad opatrunkiem. Przytomna zawsze, pełna energii i siły, nie ustała w pracy póty, póki każdy ranny nie spoczął w chacie z pr|zywazionych decha blaski, inni zaś ostatnie roztojrzejąc obozie, lecz żeby znaków wąs, myślałem z ta \n",
      "\n",
      "755/755 [==============================] - 172s 227ms/step - loss: 1.5087 - val_loss: 1.3864\n",
      "Epoch 3/10\n",
      "755/755 [==============================] - ETA: 0s - loss: 1.3953\n",
      "\n",
      " ? Możeli ona teraz mu nie przebaczyć albo ta szara brać laudańska? Mogąli go nie błogosławić? I co powie umiłowana dziewczyna, która go za zdrajcę uważa, gdy się dowie, że ów Babinicz, który R|zeczpospolita nad jego ściska armaty groźnego klęsko nie wierzą. Oto za królowie, gdy kazałem i krop \n",
      "\n",
      "755/755 [==============================] - 171s 227ms/step - loss: 1.3953 - val_loss: 1.3316\n",
      "Epoch 4/10\n",
      "755/755 [==============================] - ETA: 0s - loss: 1.3354\n",
      "\n",
      " z hetmanów obojga narodów podawany, aż do szczęśliwego zdobycia Warszawy, po którym do Prus pod przybranym nazwiskiem Babinicza był wyprawiony...\n",
      "\n",
      "Gdy to imię zabrzmiało w kościele, gwar ludzk|o i usta płacz od stepu.\n",
      "\n",
      "- Musi się rzucać!\n",
      "\n",
      "- Kniaź poczęła mu przecie Skrzetuskiego do samego kro \n",
      "\n",
      "755/755 [==============================] - 171s 227ms/step - loss: 1.3354 - val_loss: 1.2945\n",
      "Epoch 5/10\n",
      "755/755 [==============================] - ETA: 0s - loss: 1.2945\n",
      "\n",
      " ądz wyszedł z kazaniem; słuchał go Kmicic, ale mimo usiłowań i nie słyszał, i nie rozumiał. Oto ona, ta upragniona, do której od lat całych już tęsknił, która nigdy nie schodziła mu z myśli i |własnych sił ojczyzny. Niech się u doniesiesz, a ja jest dla wezmą i jadę, jedhmość wiedziałem, co n \n",
      "\n",
      "755/755 [==============================] - 171s 227ms/step - loss: 1.2945 - val_loss: 1.2737\n",
      "Epoch 6/10\n",
      "755/755 [==============================] - ETA: 0s - loss: 1.2629\n",
      "\n",
      " o chwila do myśli, tak ciężkie, że nie do odpuszczenia. Śmierć jedynie mogła je pokryć niepamięcią... Gdy wracał do zdrowia, ciążyły znów nad nim... A jednak wszystko, co było można przytoczyć| w niego, jeno razem rycerze wydostawszy się, aby iść powtórzyć przez Wołodyjowskiemu Jana Kazimierz \n",
      "\n",
      "755/755 [==============================] - 171s 226ms/step - loss: 1.2629 - val_loss: 1.2564\n",
      "Epoch 7/10\n",
      "755/755 [==============================] - ETA: 0s - loss: 1.2371\n",
      "\n",
      " o chwila do myśli, tak ciężkie, że nie do odpuszczenia. Śmierć jedynie mogła je pokryć niepamięcią... Gdy wracał do zdrowia, ciążyły znów nad nim... A jednak wszystko, co było można przytoczyć| waszej człowiekowi.\n",
      "\n",
      "Można było pierwszy za wprawy spalony pod jego nieygieł na potrzy! Żeby się do \n",
      "\n",
      "755/755 [==============================] - 171s 226ms/step - loss: 1.2371 - val_loss: 1.2420\n",
      "Epoch 8/10\n",
      "755/755 [==============================] - ETA: 0s - loss: 1.2152\n",
      "\n",
      " rzyjść właśnie z chlebem do klasztoru, zostać nie tylko siostrzyczką, ale i karmicielką mniszek.\n",
      "\n",
      "Miecznik wiedząc, że na chwałę bożą ma iść jego praca, pracował gorliwie. Objeżdżali więc raze|m czwartą wprzósło jej oczy i oświeciły na wchodzie. Rzekłbyś: Wielki Ketling granat ręce przez koło \n",
      "\n",
      "755/755 [==============================] - 171s 226ms/step - loss: 1.2152 - val_loss: 1.2376\n",
      "Epoch 9/10\n",
      "755/755 [==============================] - ETA: 0s - loss: 1.1958\n",
      "\n",
      " li Szwedów i Sakowiczowskich grasantów.\n",
      "\n",
      "Oleńka wnet wzięła komendę nad opatrunkiem. Przytomna zawsze, pełna energii i siły, nie ustała w pracy póty, póki każdy ranny nie spoczął w chacie z pr|zywołać męża i że dziecinny twarz mu się zdarzyło. Więc ani sobie pan Sobieski iść podnosił.\n",
      "\n",
      "Tak ro \n",
      "\n",
      "755/755 [==============================] - 171s 226ms/step - loss: 1.1958 - val_loss: 1.2322\n",
      "Epoch 10/10\n",
      "755/755 [==============================] - ETA: 0s - loss: 1.1792\n",
      "\n",
      " o chwila do myśli, tak ciężkie, że nie do odpuszczenia. Śmierć jedynie mogła je pokryć niepamięcią... Gdy wracał do zdrowia, ciążyły znów nad nim... A jednak wszystko, co było można przytoczyć| albo i jako południa niejeden, a mnie; przez wszystkie krzywdy tęskne, na których pękło tym razem,  \n",
      "\n",
      "755/755 [==============================] - 171s 226ms/step - loss: 1.1792 - val_loss: 1.2263\n"
     ]
    }
   ],
   "source": [
    "EPOCHS = 10\n",
    "\n",
    "#with tf.device('/cpu:0'):\n",
    "with tf.device('/device:GPU:0'):\n",
    "    history = model.fit(train_dataset, epochs=EPOCHS, validation_data=test_dataset, callbacks = [EpochEndCallback(1)])"
   ]
  },
  {
   "cell_type": "markdown",
   "metadata": {
    "id": "QXwWZVMnF-xo"
   },
   "source": [
    "Generuję tekst o różnej różnorodności. "
   ]
  },
  {
   "cell_type": "code",
   "execution_count": 13,
   "metadata": {
    "colab": {
     "base_uri": "https://localhost:8080/"
    },
    "id": "q0WXarfZF-xo",
    "outputId": "d8c1e226-0999-4db0-cab2-850561ab149e"
   },
   "outputs": [
    {
     "name": "stdout",
     "output_type": "stream",
     "text": [
      "ujcie! A ty jej odpowiadasz: Nie pójdę! Biada wam! Biada takiemu narodowi, biada tej Rzeczypospolitej!\n",
      "\n",
      "Tu panu Kmicicowi strach podniósł włosy na głowie i całe jego ciało dygotać poczęło, jak|by jej za głowę siłą go napadł nieruchomie.\n",
      "\n",
      "- Żydzie! - rzekł książę. - Niech będzie mógł jeszcze siłę dusza pana miecznika rosieńskiego pod Warszawę w koronie i z ludźmi przeciw Rzeczypospolitej przenieść mogą.\n",
      "\n",
      "- Nie chcę małą królewską mość znaczną naszego księcia Michała... Ale my tu się jeszcze wy i taki moje było w Rzeczypospolitej o wojnie i przed olechającymi pięściami widać było zdrowe, a wspomnienie poczęły cofnęć. Ran począł szybko przerażona i stanął w pędzie jeźdźców, zaraz ukazując się na dwóch stronach stawały się o stawo, nareszcie stało się ciemniej na świecie.\n",
      "\n",
      "Po chwili pan miecznik był ciężkiej głosy, a pan Zagłoba porwał się w mgnieniu oka. Przed przyjacielem pan Zagłoba wychylił parę dni Bogusława z promieniejącym aksamitem.\n",
      "\n",
      "- A czemu to ty, pana chorążego rodziciela ma swoje słowo: tego nie widział i co dzień na jasnowiejskim jeździe dokonać, choćby o prawo i dobrodziejstwa do Chmielnickiego jeszcze podróżnym powstały. Kto on jest szczęśliwy na poszukiwanie pań\n",
      "\n",
      "-------------\n",
      "\n",
      "z hetmanów obojga narodów podawany, aż do szczęśliwego zdobycia Warszawy, po którym do Prus pod przybranym nazwiskiem Babinicza był wyprawiony...\n",
      "\n",
      "Gdy to imię zabrzmiało w kościele, gwar ludzk|i, papier statlisty wykrywał pan Kmicic z tyłu rąk pacierzy, Polanowski przez trzy dni napisał brzegu Wołodyjowskiego, ale gdy się przerwała, przeto chciała nas zostać. Nie wlazdy, nie dolatujesz! Przeprawimże się waćpanna podsycanie popróbować, na tym świecie już nie wiem, czyli gardła będzie, a Ewka, choćby nad nami majestatu, i tylko samej stancji pybiono.\n",
      "\n",
      "- Jeśli to, aż układy w zgryzocie od górnych i w komnacie...\n",
      "\n",
      "- I przez usługi otoczyć nas szubienice jego uwagę.\n",
      "\n",
      "Tu znów mu przyszło do ciemnego taboru.\n",
      "\n",
      "- To armaty, anich!\n",
      "\n",
      "- Przybyłem, ale choćbyś cię przez Sobieski, co czynił?\n",
      "\n",
      "- Bo giej Skrzetuskiego. Może, kawalerze... Niech żyje! Wszakże nas nae lepsi... Wprędce to nadełzła, bo mi było bez niczanego porwać?\n",
      "\n",
      "- Powiadają panu Kmicicowim, że Kmicic, któremu ty księcia prawo biłem się chwale. Może na gościńcu buduje go ogłoszone. Oni tam byli o szczycie silniejszej i na sam myślał. Też to myślał mówię: co? - rzekł wreszcie. - Okrutnie też buławy kniaziówny i rzekł:\n",
      "\n",
      "- Jak t\n",
      "\n",
      "-------------\n",
      "\n",
      "z hetmanów obojga narodów podawany, aż do szczęśliwego zdobycia Warszawy, po którym do Prus pod przybranym nazwiskiem Babinicza był wyprawiony...\n",
      "\n",
      "Gdy to imię zabrzmiało w kościele, gwar ludzk|i, krzyknął mu ze straszunku powóg, gdy sądząc Osjrowie; pana Podbipięta, przesławny i znów skrzycząc:\n",
      "\n",
      "- Waszmość, witajcie, psi Wmyszarowie, któremu ot! A potem me słodką równinę? - żydynki próbowali, czego przyjadę, a Azja jego właśnie daje Basię w stroskanowych zawedów, miłością do liści zaś się zjedli, a cławiąc, żnym zdjęli... Moglibz waść sęk wówczas ten, który wł buławę, chciałbym tu bałas żądać.\n",
      "\n",
      "Mijowa fortuna Wrzeszczowicza wstawszy bracła i trzęsącym tuż po węgłach.\n",
      "\n",
      "- Ci zdrowa licość, bo młodzicie uowszy, oprzy aty, to jaka ludawie. Jeżeli dowoduję inaczej Radziwiłłowi, być pilno zarazem w wiele. Przejechał go także jego Baśkę z szaloną peruką, Urądano dpoi wsiadać nie porównać uczwał!\n",
      "\n",
      "Tu Altan poklętem ku swojej wyprawiono już śniegego wyra nie wiesz, co ci, aftaniiec! Jaremańska z tobą, nie trzeba umęczenia jego żołnierskiego magnę przychodziło mu, dobrzeć! Nie! Mi wziął zakonników - pozwól, abym przy uchy krwawy i albo jak oniżej, sprzymierzeńcem: ów hcaniał ję panu s\n",
      "\n",
      "-------------\n",
      "\n"
     ]
    }
   ],
   "source": [
    "texts1 = generate_text(model, temperature=0.7, gen_length=1000)\n",
    "print(texts1[0])\n",
    "print(\"\\n-------------\\n\")\n",
    "\n",
    "texts2 = generate_text(model, temperature=1.0, gen_length=1000)\n",
    "print(texts2[0])\n",
    "print(\"\\n-------------\\n\")\n",
    "\n",
    "texts3 = generate_text(model, temperature=1.3, gen_length=1000)\n",
    "print(texts3[0])\n",
    "print(\"\\n-------------\\n\")"
   ]
  },
  {
   "cell_type": "markdown",
   "metadata": {
    "id": "zvRYvTUYF-xo"
   },
   "source": [
    "Można zapisać wygenerowany tekst do pliku."
   ]
  },
  {
   "cell_type": "code",
   "execution_count": 14,
   "metadata": {
    "id": "jjgS5ILmF-xp"
   },
   "outputs": [],
   "source": [
    "with open(\"generated_text.txt\", \"w\", encoding=\"utf-8\") as f:\n",
    "    for text in texts2:\n",
    "        f.write(text)\n",
    "        f.write(\"\\n\\n-------------------------------------------------------------\\n\\n\")"
   ]
  },
  {
   "cell_type": "markdown",
   "metadata": {
    "id": "lbyIhzKnF-xp"
   },
   "source": [
    "Zapisuję model, aby móc go w przysłości wykorzystać."
   ]
  },
  {
   "cell_type": "code",
   "execution_count": 15,
   "metadata": {
    "id": "GSc0ExueF-xp"
   },
   "outputs": [],
   "source": [
    "model.save_weights(\"model\")"
   ]
  },
  {
   "cell_type": "markdown",
   "metadata": {
    "id": "nJGGmHMNF-xp"
   },
   "source": [
    "Sprawdzam jak zmieniał się bład podczas uczenia, na zbiorze treningowym i testowym. Jak widać, nauczanie przebiegło poprawnie."
   ]
  },
  {
   "cell_type": "code",
   "execution_count": 16,
   "metadata": {
    "colab": {
     "base_uri": "https://localhost:8080/",
     "height": 607
    },
    "id": "AU3b38hYF-xq",
    "outputId": "86e24b21-4fa7-42cd-b8d3-5ac4fc97609d",
    "scrolled": true
   },
   "outputs": [
    {
     "data": {
      "image/png": "[encoded data removed]",
      "text/plain": [
       "<Figure size 1440x720 with 1 Axes>"
      ]
     },
     "metadata": {
      "needs_background": "light",
      "tags": []
     },
     "output_type": "display_data"
    }
   ],
   "source": [
    "plt.figure(figsize=(20,10))\n",
    "plt.plot(history.history[\"loss\"], label=\"loss\")\n",
    "plt.plot(history.history[\"val_loss\"], label=\"val_loss\")\n",
    "\n",
    "plt.legend()\n",
    "plt.title(\"Train loss\")\n",
    "plt.show()"
   ]
  },
  {
   "cell_type": "markdown",
   "metadata": {
    "id": "LHjpuKkiF-xq"
   },
   "source": [
    "Następnym etapem jest przeuczenie modelu na twórczość Adama Mickiewicza. Jako że model \"nauczył\" się już języka polskiego, proces ten będzie niezwykle szybki."
   ]
  },
  {
   "cell_type": "code",
   "execution_count": 19,
   "metadata": {
    "colab": {
     "base_uri": "https://localhost:8080/"
    },
    "id": "xpWj-_wQF-xr",
    "outputId": "f601a5b7-7a75-4e22-a563-ddadd19b56e1"
   },
   "outputs": [
    {
     "name": "stdout",
     "output_type": "stream",
     "text": [
      "Epoch 1/4\n",
      "67/67 [==============================] - ETA: 0s - loss: 1.6776WARNING:tensorflow:Callbacks method `on_test_batch_end` is slow compared to the batch time (batch time: 0.0144s vs `on_test_batch_end` time: 0.0517s). Check your callbacks.\n",
      "\n",
      "\n",
      " eć, lecz milczy upornie;\n",
      "On krok zwalnia, oczyma jej spojrzenia śledzi,\n",
      "I zaśmiał się na koniec; rad z jej odpowiedzi\n",
      "Stąpa prędzej, pogląda na rywalów z góry,\n",
      "I swą konfederatkę z czaplinymi |krwawe rapy\n",
      "Zielił tumult i zimny poseł nieco na łąkach.\n",
      "\n",
      " Ostrożnym lud chłopiący błyszczała oddała \n",
      "\n",
      "67/67 [==============================] - 17s 253ms/step - loss: 1.6776 - val_loss: 1.5549\n",
      "Epoch 2/4\n",
      "67/67 [==============================] - ETA: 0s - loss: 1.4888\n",
      "\n",
      " eć, lecz milczy upornie;\n",
      "On krok zwalnia, oczyma jej spojrzenia śledzi,\n",
      "I zaśmiał się na koniec; rad z jej odpowiedzi\n",
      "Stąpa prędzej, pogląda na rywalów z góry,\n",
      "I swą konfederatkę z czaplinymi |ją pełzać obrazyje.\n",
      "Milczeć się pod wodzą Jęć lub moja cieplejana\n",
      "Takie to krewne, że ich nie mogła. \n",
      "\n",
      "67/67 [==============================] - 16s 242ms/step - loss: 1.4888 - val_loss: 1.5283\n",
      "Epoch 3/4\n",
      "67/67 [==============================] - ETA: 0s - loss: 1.4015\n",
      "\n",
      " iłbyś, że ta para w powietrze uleci,\n",
      "Podobna do pyzatych Boreasza dzieci.\n",
      "Brakło cymbałów.\n",
      "\n",
      " Było cymbalistów wielu,\n",
      "Ale żaden z nich nie śmiał zagrać przy Jankielu\n",
      "(Jankiel przez całą zimę ni|e chciał funkle chodzić,\n",
      "Kichnął, polewy, i z groźnym włościem ludem.\n",
      "Gdy bardzo zająca chmurka wida \n",
      "\n",
      "67/67 [==============================] - 16s 240ms/step - loss: 1.4015 - val_loss: 1.5206\n",
      "Epoch 4/4\n",
      "67/67 [==============================] - ETA: 0s - loss: 1.3343\n",
      "\n",
      " eć, lecz milczy upornie;\n",
      "On krok zwalnia, oczyma jej spojrzenia śledzi,\n",
      "I zaśmiał się na koniec; rad z jej odpowiedzi\n",
      "Stąpa prędzej, pogląda na rywalów z góry,\n",
      "I swą konfederatkę z czaplinymi |wyrrawowanych,.\n",
      "\n",
      " Przestępał wkoło ucha, ona drżała kamienie\n",
      "Świecąc się, lecz wstrzymują głowy:\n",
      "A o \n",
      "\n",
      "67/67 [==============================] - 16s 241ms/step - loss: 1.3343 - val_loss: 1.5264\n"
     ]
    }
   ],
   "source": [
    "#text = open('pan-tadeusz.txt', 'r', encoding='UTF-8').read()\n",
    "text = open('drive/My Drive/Colab Notebooks/MickiewiczTextGeneration/pan-tadeusz.txt', 'r', encoding='UTF-8').read()\n",
    "\n",
    "text_as_int = np.array([char2idx[c] for c in text])\n",
    "\n",
    "examples_per_epoch = len(text)//(seq_length+1)\n",
    "\n",
    "char_dataset = tf.data.Dataset.from_tensor_slices(text_as_int)\n",
    "sequences = char_dataset.batch(seq_length+1, drop_remainder=True)\n",
    "dataset = sequences.map(split_input_target)\n",
    "dataset = dataset.batch(BATCH_SIZE, drop_remainder=True)\n",
    "\n",
    "train_part = 0.95\n",
    "DATASET_SIZE = len(sequences) // BATCH_SIZE\n",
    "train_size = int(train_part * DATASET_SIZE)\n",
    "test_size = int((1-train_part) * DATASET_SIZE)\n",
    "\n",
    "train_dataset = dataset.take(train_size)\n",
    "train_dataset = train_dataset.shuffle(BUFFER_SIZE)\n",
    "test_dataset = dataset.skip(train_size)\n",
    "test_dataset = test_dataset.shuffle(BUFFER_SIZE)\n",
    "\n",
    "EPOCHS = 4\n",
    "\n",
    "#with tf.device('/cpu:0'):\n",
    "with tf.device('/device:GPU:0'):\n",
    "    history = model.fit(train_dataset, epochs=EPOCHS, validation_data=test_dataset, callbacks = [EpochEndCallback(1)])"
   ]
  },
  {
   "cell_type": "markdown",
   "metadata": {
    "id": "Vp-s9avGF-xs"
   },
   "source": [
    "Generuję tekst o różnej różnorodności i go zapisuję."
   ]
  },
  {
   "cell_type": "code",
   "execution_count": 20,
   "metadata": {
    "colab": {
     "base_uri": "https://localhost:8080/"
    },
    "id": "v2icUFRsF-xs",
    "outputId": "cef02ad8-023b-47a1-8db9-67c2f3bbf15d"
   },
   "outputs": [
    {
     "name": "stdout",
     "output_type": "stream",
     "text": [
      "iada. Ja mam dosyć na tem,\n",
      "Że mój Scyzoryk jeszcze zabłyśnie przed światem\n",
      "W takim ręku! Niech tylko jenerał pamięta,\n",
      "Aby tasiemka była długa, rozciągnięta,\n",
      "Bo to długie; a zawsze od lewego uc|ha naszego rodu\n",
      "Szkoda też przecież nikomu: jenerale, przyjmie o tobie, a teraz kopiec, ale jeszcze pod łaski mojego rodu,\n",
      "Która się przed Tadeuszem słyszałem, potrzeba takiej głowy wywijać;\n",
      "Czy nie może krzyczy młodzieńcem? ja waści gadałem...\n",
      "I tobie mię wielkie zatrzymać zwykłe winy z Wielkopolanie.\n",
      "Czy Sędzia - rzekł - przecież przed szeregiem błyszczała nad galenkiem.\n",
      "\n",
      " A tymczasem - rzekł Hrabia - jesteś wyzwaniem,\n",
      "Czy ty szlachta z Zosi słychać było,\n",
      "Nikt poły coraz to noc zgromadzać.\n",
      "Tak rozumiał i słów nie można było zabawić,\n",
      "I wyszedł Sędzia w Uszycy do szlacheckiej alteracji.\n",
      "Ja tam szepnął. Dziś jest panienko! niech ten bardzo szczęśliwy!\n",
      "Kto by to nie wiedział nikomu, przeto do przestawiać i twarzy,\n",
      "Dobrze mój w tym chciał od waszej miłości służyć\n",
      "Uprawić, że dzikie przykłady poznać nie może.\n",
      "Kto to widziałem? wypić się stanie;\n",
      "Więc pojedziem jak w ręku Sędziego za mną.\n",
      "Obaczymy, jak to szlachcie? - rzekł Litwin - cały krewny z rozkazu się podarunem,\n",
      "A nie wiem, czy ty się\n",
      "\n",
      "-------------\n",
      "\n",
      "eć, lecz milczy upornie;\n",
      "On krok zwalnia, oczyma jej spojrzenia śledzi,\n",
      "I zaśmiał się na koniec; rad z jej odpowiedzi\n",
      "Stąpa prędzej, pogląda na rywalów z góry,\n",
      "I swą konfederatkę z czaplinymi |skalami\n",
      "Z dala płyszczących, na strzelbę się bowiem w na salę.\n",
      "Tuż Francuz to ważny!\n",
      "Nie! - rzekł Gerwazy? Ledwie ubłyskuje kilka gronowy,\n",
      "Których Kropiciel cył i że złocisty, obyczajem\n",
      "Lubił wąsy podkomorzego domać:\n",
      "Sędzia rozerwałem z góry...\n",
      "\n",
      " Z kolan usta zwalił w usta rakiem,\n",
      "Zagłosami rozpraszał, jak odgłos nie widać.\n",
      "! Stanie się waść, kiedy uważasz, przyjmie krew, to przez wazania!\n",
      "Tak kto z dawna, żem supie,\n",
      "Jestem na Fulrkorz nijak wołając po wczorajszej trawie;\n",
      "Rety, francuz poseł posiadanie!\n",
      "A on własny jesteś Sobak żebra, bardzo wstyd własny,\n",
      "W sporem, zwany nieboszczyk, który brat znajduje;\n",
      "Wpadli w nieustrożne, wodą spędził jasno szereg iaby;\n",
      "I bij krewnego, ba, a wszystkie panem Zosię. To tak wszystko umiem mu grzmi o otwicie.\n",
      "\n",
      " Telimena, jak hilkownik kocha!\n",
      "Wolę o nim obcej stroinie,\n",
      "Jeżelibym bez nas wszystkich jadło, ten drugi lepszy do króla;\n",
      "Bom ja te słowo: gdybyś bogaty?\n",
      "I ja już mnie wy lędzia pełzi będzie!\n",
      "Szyja łupa po bramie!\n",
      "Wszak Sędzia; o czym postawiwszy\n",
      "\n",
      "-------------\n",
      "\n",
      "iada. Ja mam dosyć na tem,\n",
      "Że mój Scyzoryk jeszcze zabłyśnie przed światem\n",
      "W takim ręku! Niech tylko jenerał pamięta,\n",
      "Aby tasiemka była długa, rozciągnięta,\n",
      "Bo to długie; a zawsze od lewego uc|zucia łączył,\n",
      "Magnac cresŻa zedy,tę ściskać, więc Nula:\n",
      "Ogórnych, widzą, dziwięcą,\n",
      "Breprzańskich; już drogę podca, ale nad Dysżyga.\n",
      "\n",
      " Jankieł, Sypioc Gerwazy. Bid byli, nikomu dobrego z armatą\n",
      "Godole, otrowy rozfósnych czelada:\n",
      "Jaśnie wiadomość chcesz, to dziecko:Hej władyni prywatiszbe zdradzał,\n",
      "Te traęsdć i szlachciausęisnąć: Sójdenkosz, Hrabia\n",
      "Odezwać, ę w złocie,\n",
      "Rozmawiał częściej, jako żyrowym pewną brzucha\n",
      "Myśliwszychzancu,\n",
      "Krewny skobódczynnych znaków blask dzica pięści przyniosło,\n",
      "Jak pomiędzy jęgy złożenie, Barbujec, rauty!...\n",
      "Jeśli kno chce Boku wypowiedzieć,\n",
      "Pany?\n",
      "Moraoże! Jezej, masz to Fękała, gdy Kosma chorski waćpana nieżyć!\n",
      "Ci Ręmosławia - ten, toczy wygrały dom jadycyjały\n",
      "I lipszy z Telimenymi, i króla, drobignaniu!\n",
      "Zgoda (twojo za to, widzę! Chwybamy.\n",
      "Długo mstaja, wyszczerbrna szła drogą,\n",
      "Więc chociaż kłos wymieszona tylną cuda.\n",
      "Nie kłoporazy, jak biały kłosem powsiadał lisem ludzi?\n",
      "Te!\n",
      "Szlachta! ale i pono: pocieszaj mnie waćpan mój Brasia! Tyuch państwa mcha?\n",
      "Więc\n",
      "\n",
      "-------------\n",
      "\n"
     ]
    }
   ],
   "source": [
    "texts1 = generate_text(model, temperature=0.7, gen_length=1000)\n",
    "print(texts1[0])\n",
    "print(\"\\n-------------\\n\")\n",
    "\n",
    "texts2 = generate_text(model, temperature=1.0, gen_length=1000)\n",
    "print(texts2[0])\n",
    "print(\"\\n-------------\\n\")\n",
    "\n",
    "texts3 = generate_text(model, temperature=1.3, gen_length=1000)\n",
    "print(texts3[0])\n",
    "print(\"\\n-------------\\n\")\n",
    "\n",
    "with open(\"generated_text1.txt\", \"w\", encoding=\"utf-8\") as f:\n",
    "    for text in texts1:\n",
    "        f.write(text)\n",
    "        f.write(\"\\n\\n-------------------------------------------------------------\\n\\n\")\n",
    "        \n",
    "with open(\"generated_text2.txt\", \"w\", encoding=\"utf-8\") as f:\n",
    "    for text in texts2:\n",
    "        f.write(text)\n",
    "        f.write(\"\\n\\n-------------------------------------------------------------\\n\\n\")\n",
    "        \n",
    "with open(\"generated_text3.txt\", \"w\", encoding=\"utf-8\") as f:\n",
    "    for text in texts3:\n",
    "        f.write(text)\n",
    "        f.write(\"\\n\\n-------------------------------------------------------------\\n\\n\")"
   ]
  },
  {
   "cell_type": "markdown",
   "metadata": {
    "id": "ww_9J8juF-xt"
   },
   "source": [
    "Sprawdzam jak zmieniał się bład podczas uczenia, na zbiorze treningowym i testowym."
   ]
  },
  {
   "cell_type": "code",
   "execution_count": 21,
   "metadata": {
    "colab": {
     "base_uri": "https://localhost:8080/",
     "height": 607
    },
    "id": "Sd0kjeHVF-xt",
    "outputId": "dd694e76-3a2f-466d-c5b4-2d817da2dc86"
   },
   "outputs": [
    {
     "data": {
      "image/png": "[encoded data removed]",
      "text/plain": [
       "<Figure size 1440x720 with 1 Axes>"
      ]
     },
     "metadata": {
      "needs_background": "light",
      "tags": []
     },
     "output_type": "display_data"
    }
   ],
   "source": [
    "plt.figure(figsize=(20,10))\n",
    "plt.plot(history.history[\"loss\"], label=\"loss\")\n",
    "plt.plot(history.history[\"val_loss\"], label=\"val_loss\")\n",
    "\n",
    "plt.legend()\n",
    "plt.title(\"Train loss\")\n",
    "plt.show()"
   ]
  },
  {
   "cell_type": "markdown",
   "metadata": {
    "id": "AjHqZ7P0F-xt"
   },
   "source": [
    "**Źródła**\n",
    "\n",
    "Tworząc tego notebooka opierałem się głównie na tym poradniku <a href=\"https://www.tensorflow.org/tutorials/text/text_generation\">https://www.tensorflow.org/tutorials/text/text_generation</a>.\n",
    "Sprawdziłem również inne poradniki, jednak ten działał najlepiej, zwłaszcza, jeśli chodzi o długość wykonywania się pętli generującej tekst.\n",
    "\n",
    "Jeśli chodzi o literaturę naukową, nie znalazłem żadnego artykułu, co pewnie wynika z trywialności zagadnienia. Znalazłem za to podobny problem <a href=\"https://arxiv.org/ftp/arxiv/papers/1901/1901.07426.pdf\">https://arxiv.org/ftp/arxiv/papers/1901/1901.07426.pdf</a>, jednak tam model generuje tekst w oparciu o sylaby. Jeśli chodzi o sensowność generowanego tekstu, mój model okazał się lepszy."
   ]
  }
 ],
 "metadata": {
  "accelerator": "GPU",
  "colab": {
   "name": "main_proj.ipynb",
   "provenance": [],
   "toc_visible": true
  },
  "kernelspec": {
   "display_name": "Python 3",
   "language": "python",
   "name": "python3"
  },
  "language_info": {
   "codemirror_mode": {
    "name": "ipython",
    "version": 3
   },
   "file_extension": ".py",
   "mimetype": "text/x-python",
   "name": "python",
   "nbconvert_exporter": "python",
   "pygments_lexer": "ipython3",
   "version": "3.8.5"
  }
 },
 "nbformat": 4,
 "nbformat_minor": 1
}
